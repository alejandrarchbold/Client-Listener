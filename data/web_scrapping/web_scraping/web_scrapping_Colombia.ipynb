{
 "cells": [
  {
   "cell_type": "code",
   "execution_count": 1,
   "metadata": {},
   "outputs": [],
   "source": [
    "# paquete para leer archivos html\n",
    "import bs4\n",
    "# urllib es unpaquete para acceder a contenido de paginas por medio de URL\n",
    "from urllib.request import urlopen\n",
    "from bs4 import BeautifulSoup\n",
    "\n",
    "import numpy as np\n",
    "import pandas as pd"
   ]
  },
  {
   "cell_type": "code",
   "execution_count": 2,
   "metadata": {},
   "outputs": [],
   "source": [
    "## Funciones auxiliares\n",
    "def get_soup(url,pars):\n",
    "    \"\"\"\n",
    "    Retorna una sopa de caracteres de la pagina leída en formato especificado\n",
    "    args:\n",
    "        url: url de la pagina\n",
    "        pars: string de tipo de formato en el cual se va a leer la pagina (html o xml)\n",
    "    returns:\n",
    "        objeto de tipo BeautifulSoup con su contenido\n",
    "    \"\"\"\n",
    "    #myURL = url\n",
    "    uClient = urlopen(url)\n",
    "    page = uClient.read()\n",
    "    uClient.close()\n",
    "    page_soup = BeautifulSoup(page,pars)\n",
    "    return page_soup\n",
    "\n",
    "\n",
    "def get_opiniones(url_base,tag,atributo,valor,n_pags,conn):\n",
    "    \"\"\"\n",
    "    Consigue todas las opiniones de una URL del foro\n",
    "    \n",
    "    args:\n",
    "        url_base: url base que se concatena con el indice de la pagina\n",
    "        tag: etiqueta del html donde se encuentra el texto buscado\n",
    "        atributo: atributo del objeto con etiqueta tag\n",
    "        valor: valor del atributo\n",
    "        n_pags: numero maximo de paginas de comentarios maximo a considerar\n",
    "    \n",
    "    returns:\n",
    "        lista con opiniones\n",
    "    \"\"\"\n",
    "    print(url_base)\n",
    "    opiniones = []\n",
    "    print(\"Explorando paginas...\")\n",
    "    for i in range(1,n_pags+1):\n",
    "        #print(\"Pagina: \",i)\n",
    "        URL = url_base + conn + str(i) # \"?page=\" o \n",
    "        soup = get_soup(URL,\"html.parser\")\n",
    "        ops_pg = soup.findAll(tag,{atributo:value})\n",
    "        for op in ops_pg:\n",
    "            opiniones.append(op.text.replace('\\n',''))\n",
    "        #print(\"========================================\")    \n",
    "    print(\"Terminado!\")\n",
    "    return opiniones\n"
   ]
  },
  {
   "cell_type": "markdown",
   "metadata": {},
   "source": [
    "## BBVA"
   ]
  },
  {
   "cell_type": "code",
   "execution_count": 3,
   "metadata": {},
   "outputs": [],
   "source": [
    "url_bbva = \"https://opinionescolombia.co/gestion-de-fortunas/bbva-opiniones-reviews\"\n",
    "soup = get_soup(url_bbva,\"html.parser\")"
   ]
  },
  {
   "cell_type": "code",
   "execution_count": 4,
   "metadata": {},
   "outputs": [],
   "source": [
    "tag = \"div\"\n",
    "atributo = \"class\"\n",
    "value = \"review-content\"\n",
    "comentarios = soup.findAll(tag,{atributo:value})\n",
    "opiniones_bbva_col = [] # donde se almacenan todas las opiniones sobre BBVA colombia\n",
    "\n",
    "for i in range(len(comentarios)):\n",
    "    opiniones_bbva_col.append(comentarios[i].text)"
   ]
  },
  {
   "cell_type": "markdown",
   "metadata": {},
   "source": [
    "## Bancolombia"
   ]
  },
  {
   "cell_type": "code",
   "execution_count": 5,
   "metadata": {},
   "outputs": [
    {
     "name": "stdout",
     "output_type": "stream",
     "text": [
      "https://es.trustpilot.com/review/www.bancolombia.com\n",
      "Explorando paginas...\n",
      "Terminado!\n"
     ]
    }
   ],
   "source": [
    "URL_base_bancol = \"https://es.trustpilot.com/review/www.bancolombia.com\"\n",
    "tag = \"p\"\n",
    "atributo = \"class\"\n",
    "value = \"review-content__text\"\n",
    "num_pags = 2\n",
    "opiniones_bancol = get_opiniones(URL_base_bancol, tag, atributo, value, num_pags,\"?page=\")"
   ]
  },
  {
   "cell_type": "markdown",
   "metadata": {},
   "source": [
    "## Davivienda"
   ]
  },
  {
   "cell_type": "code",
   "execution_count": 7,
   "metadata": {},
   "outputs": [
    {
     "name": "stdout",
     "output_type": "stream",
     "text": [
      "https://appgrooves.com/app/daviplata-global-by-banco-davivienda-sa-1/\n",
      "Explorando paginas...\n",
      "Terminado!\n",
      "Numero de opiniones conseguidas:  39\n"
     ]
    }
   ],
   "source": [
    "url_dav = \"https://appgrooves.com/app/daviplata-global-by-banco-davivienda-sa-1/\"\n",
    "tag = \"div\"\n",
    "atributo = \"class\"\n",
    "value = \"body-content collapse\"\n",
    "num_pags = 4\n",
    "opiniones_dav = get_opiniones(url_dav, tag, atributo, value, num_pags,\"negative?p=\")\n",
    "print(\"Numero de opiniones conseguidas: \",len(opiniones_dav))"
   ]
  },
  {
   "cell_type": "code",
   "execution_count": 9,
   "metadata": {},
   "outputs": [],
   "source": [
    "# limpiando los datos\n",
    "for i in range(len(opiniones_dav)):\n",
    "    opiniones_dav[i] = opiniones_dav[i].replace('\\t','')"
   ]
  },
  {
   "cell_type": "markdown",
   "metadata": {},
   "source": [
    "## Pasando informacion a dataframe"
   ]
  },
  {
   "cell_type": "code",
   "execution_count": 10,
   "metadata": {},
   "outputs": [],
   "source": [
    "opiniones_COL = np.array(opiniones_bbva_col + opiniones_bancol + opiniones_dav)\n",
    "df_col = pd.DataFrame(opiniones_COL,columns=['opinion'])\n",
    "df_col['banco'] = np.array(len(opiniones_bbva_col)*[\"BBVA\"]+len(opiniones_bancol)*[\"Bancolombia\"]+len(opiniones_dav)*[\"Davivienda\"])\n",
    "df_col[\"pais\"] = (len(opiniones_bbva_col)+len(opiniones_bancol)+len(opiniones_dav))*[\"Colombia\"]"
   ]
  },
  {
   "cell_type": "code",
   "execution_count": 12,
   "metadata": {},
   "outputs": [],
   "source": [
    "# Exportando a excel\n",
    "df_col.to_excel(\"opiniones_colombia.xlsx\")"
   ]
  }
 ],
 "metadata": {
  "kernelspec": {
   "display_name": "Python 3",
   "language": "python",
   "name": "python3"
  },
  "language_info": {
   "codemirror_mode": {
    "name": "ipython",
    "version": 3
   },
   "file_extension": ".py",
   "mimetype": "text/x-python",
   "name": "python",
   "nbconvert_exporter": "python",
   "pygments_lexer": "ipython3",
   "version": "3.8.3"
  }
 },
 "nbformat": 4,
 "nbformat_minor": 4
}
