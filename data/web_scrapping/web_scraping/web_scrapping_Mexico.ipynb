{
 "cells": [
  {
   "cell_type": "code",
   "execution_count": 1,
   "metadata": {},
   "outputs": [],
   "source": [
    "# paquete para leer archivos html\n",
    "import bs4\n",
    "# urllib es unpaquete para acceder a contenido de paginas por medio de URL\n",
    "from urllib.request import urlopen,Request\n",
    "import urllib\n",
    "from bs4 import BeautifulSoup\n",
    "\n",
    "import numpy as np\n",
    "import pandas as pd"
   ]
  },
  {
   "cell_type": "code",
   "execution_count": 2,
   "metadata": {},
   "outputs": [],
   "source": [
    "## Funciones auxiliares\n",
    "def get_soup(url,pars):\n",
    "    \"\"\"\n",
    "    Retorna una sopa de caracteres de la pagina leída en formato especificado\n",
    "    args:\n",
    "        url: url de la pagina\n",
    "        pars: string de tipo de formato en el cual se va a leer la pagina (html o xml)\n",
    "    returns:\n",
    "        objeto de tipo BeautifulSoup con su contenido\n",
    "    \"\"\"\n",
    "    #myURL = url\n",
    "    uClient = urlopen(url)\n",
    "    page = uClient.read()\n",
    "    uClient.close()\n",
    "    page_soup = BeautifulSoup(page,pars)\n",
    "    return page_soup\n",
    "\n",
    "\n",
    "def get_opiniones(url_base,tag,atributo,valor,n_pags,conn):\n",
    "    \"\"\"\n",
    "    Consigue todas las opiniones de una URL del foro\n",
    "    \n",
    "    args:\n",
    "        url_base: url base que se concatena con el indice de la pagina\n",
    "        tag: etiqueta del html donde se encuentra el texto buscado\n",
    "        atributo: atributo del objeto con etiqueta tag\n",
    "        valor: valor del atributo\n",
    "        n_pags: numero maximo de paginas de comentarios maximo a considerar\n",
    "    \n",
    "    returns:\n",
    "        lista con opiniones\n",
    "    \"\"\"\n",
    "    print(url_base)\n",
    "    opiniones = []\n",
    "    print(\"Explorando paginas...\")\n",
    "    for i in range(1,n_pags+1):\n",
    "        #print(\"Pagina: \",i)\n",
    "        URL = url_base + conn + str(i) # \"?page=\" o \n",
    "        soup = get_soup(URL,\"html.parser\")\n",
    "        ops_pg = soup.findAll(tag,{atributo:value})\n",
    "        for op in ops_pg:\n",
    "            opiniones.append(op.text.replace('\\n',''))\n",
    "        #print(\"========================================\")    \n",
    "    print(\"Terminado!\")\n",
    "    return opiniones\n"
   ]
  },
  {
   "cell_type": "markdown",
   "metadata": {},
   "source": [
    "## BBVA"
   ]
  },
  {
   "cell_type": "code",
   "execution_count": 3,
   "metadata": {},
   "outputs": [],
   "source": [
    "url_bbva = \"https://www.amazon.com.mx/BBVA-Bancomer-BBVA-Bancomer/product-reviews/B07K7X7JFP\"\n",
    "soup = get_soup(url_bbva,\"html.parser\")\n",
    "# https://www.amazon.com.mx/BBVA-Bancomer-BBVA-Bancomer/product-reviews/B07K7X7JFP"
   ]
  },
  {
   "cell_type": "code",
   "execution_count": 4,
   "metadata": {},
   "outputs": [],
   "source": [
    "tag1 = \"a\"\n",
    "atributo1 = \"data-hook\"\n",
    "valor1 = \"review-title\"\n",
    "\n",
    "tag2 = \"span\"\n",
    "atributo2 = \"class\"\n",
    "valor2 = \"a-size-base review-text review-text-content\"\n",
    "\n",
    "\n",
    "opiniones_bbva = []\n",
    "\n",
    "ops_bbva_1 = soup.findAll(tag1,{atributo1:valor1})\n",
    "ops_bbva_2 = soup.findAll(tag2,{atributo2:valor2})"
   ]
  },
  {
   "cell_type": "code",
   "execution_count": 5,
   "metadata": {},
   "outputs": [],
   "source": [
    "# Correr una sola vez sino desde celdas de arriba\n",
    "for i in range(len(ops_bbva_1)):\n",
    "    opiniones_bbva.append(ops_bbva_1[i].text + \". \" + ops_bbva_2[i].text)\n",
    "    \n",
    "opiniones_bbva = [o.replace('\\n','') for o in opiniones_bbva]"
   ]
  },
  {
   "cell_type": "code",
   "execution_count": 6,
   "metadata": {},
   "outputs": [
    {
     "data": {
      "text/plain": [
       "['Me encanta! Puedo obtener el tipo de cambio rápidamente..   Puedo obtener el tipo de cambio rápidamente y me da tips financieros.',\n",
       " 'BBVA el banco digital.   Excelente skill, puedes mantenerte al día de indicadores bancarios de inmediato. Se debería poder hacer parte de las rutinas y deberían agregar más funciones',\n",
       " 'mala ubicacion de sucursales.   Solo reconoce algunos c.p. En la mayoria te dice que no hay sucursal. Ya da el tipo de cambio en compra y venta. Cuando ya no quieres ayuda, no reconoce los comandos no,ni alto, siempre responde que no entiende lo que deseas...',\n",
       " 'Indispensable para usuarios BBVA Bancomer.   Un muy buen Skill para los usuarios de BBVA Bancomer, con servicios necesarios y eficientes.',\n",
       " 'Interesante e inovador.   Desde la aplicación es super fácil e intuitivo, jamas pensé que podría interactuar así con un banco',\n",
       " 'código postal.   no reconoce ninguna código postal para ubicar cajeros o sucursales.',\n",
       " 'Me gusto.   Espero que pongan mas funciones',\n",
       " 'pedir la información del tipo de cambio es un poco largo, incompleta e imprecisa.   Para pedir el tipo de cambio por ejemplo del dolar tienes que decir la frase completa y exacta,  por ejemplo: \"Alexa, Pregunta a BBVA Bancomer por el tio de cambio del dolar\" si no, no te da la información.  Preguntar por ejmplo: \"Alexa, dame el tipo de cambio del dolar\", te reponde que no entiende.Por otra parte la información del tipo de cambio que te da es el de COMPRA, solamente. Pero no te dice que es el valor de COMPRA. La mayoría de las veces nos interesa mas el precio de VENTA. Debería dar AMBAS informaciones y debería decir que tipo de cambio es el que está informando.Es buena, pero necesita mejorarse, para que sea mas sencillo y rápido de usar con las frases de pregunta, y con la precisión de las respuestas.',\n",
       " 'malo malo y malo.   Ni reconoce bbva Cúando lo digo',\n",
       " 'Falta Actualizar.   Aunque la intencion es buena, le faltan datos dentro de la skill para que pueda llegar a ser de gran uso a los usuarios. Sigue siendo de una app para consultas muy limitado. Saludos']"
      ]
     },
     "execution_count": 6,
     "metadata": {},
     "output_type": "execute_result"
    }
   ],
   "source": [
    "opiniones_bbva"
   ]
  },
  {
   "cell_type": "markdown",
   "metadata": {},
   "source": [
    "## Citibanamex"
   ]
  },
  {
   "cell_type": "code",
   "execution_count": 7,
   "metadata": {},
   "outputs": [
    {
     "name": "stdout",
     "output_type": "stream",
     "text": [
      "https://es.trustpilot.com/review/www.banamex.com\n",
      "Explorando paginas...\n",
      "Terminado!\n"
     ]
    }
   ],
   "source": [
    "URL_base_citibmx = \"https://es.trustpilot.com/review/www.banamex.com\"\n",
    "tag = \"p\"\n",
    "atributo = \"class\"\n",
    "value = \"review-content__text\"\n",
    "num_pags = 2\n",
    "opiniones_citibmx = get_opiniones(URL_base_citibmx, tag, atributo, value, num_pags,\"?page=\")"
   ]
  },
  {
   "cell_type": "code",
   "execution_count": 9,
   "metadata": {},
   "outputs": [
    {
     "name": "stdout",
     "output_type": "stream",
     "text": [
      "22\n"
     ]
    }
   ],
   "source": [
    "print(len(opiniones_citibmx))\n",
    "opiniones_citibmx = [opiniones_citibmx[i].strip() for i in range(len(opiniones_citibmx))]"
   ]
  },
  {
   "cell_type": "markdown",
   "metadata": {},
   "source": [
    "## Santander"
   ]
  },
  {
   "cell_type": "code",
   "execution_count": 10,
   "metadata": {},
   "outputs": [],
   "source": [
    "# Con Rankia\n",
    "def find_Rankia_opinions(banco,url_base,pags_range,conn):\n",
    "    \"\"\"\n",
    "    Encuentra las opiniones relacionadas con el banco especifico en la pagina de Rankia referente al banco\n",
    "    args:\n",
    "        banco: nombre del banco\n",
    "        url_base: url donde hay opiniones de bancos en la pagina Rankia\n",
    "        pags_range: rango de indice de paginas en las cuales se va a examinar\n",
    "        conn: conector para explorar paginas\n",
    "    returns:\n",
    "        lista con opiniones referentes al banco especificado\n",
    "    \"\"\"\n",
    "    print(\"Explorando paginas...\")\n",
    "    opiniones = []\n",
    "    for i in pags_range:\n",
    "        URL = url_base + conn + str(i)\n",
    "        page = Request(URL,headers={'User-Agent': 'Mozilla/5.0'}) \n",
    "        infile= urllib.request.urlopen(page).read()\n",
    "        soup = BeautifulSoup(infile,\"html.parser\")#get_soup(url_base_sant,\"html.parser\")\n",
    "        ops_pg = soup.findAll(\"p\")\n",
    "        for j in range(len(ops_pg)):\n",
    "            if banco in ops_pg[j].text:\n",
    "                opiniones.append(ops_pg[j].text)\n",
    "    print(\"Terminado!\")\n",
    "    return opiniones\n",
    "        "
   ]
  },
  {
   "cell_type": "code",
   "execution_count": 11,
   "metadata": {},
   "outputs": [
    {
     "name": "stdout",
     "output_type": "stream",
     "text": [
      "Explorando paginas...\n",
      "Terminado!\n"
     ]
    }
   ],
   "source": [
    "banco = \"Santander\"\n",
    "URL_base_sant = \"https://www.rankia.mx/foros/bancos-cajas/temas/1764910-cual-mejor-banco-mexico\"\n",
    "pags_range = range(8,14)\n",
    "conn = \"?page=\"\n",
    "opiniones_sant = find_Rankia_opinions(banco,URL_base_sant,pags_range,conn)"
   ]
  },
  {
   "cell_type": "markdown",
   "metadata": {},
   "source": [
    "## Pasando los datos a dataframe"
   ]
  },
  {
   "cell_type": "code",
   "execution_count": 14,
   "metadata": {},
   "outputs": [],
   "source": [
    "opiniones_MEX = np.array(opiniones_bbva + opiniones_citibmx + opiniones_sant)\n",
    "df_mex = pd.DataFrame(opiniones_MEX,columns=['opinion'])\n",
    "df_mex['banco'] = np.array(len(opiniones_bbva)*[\"BBVA\"]+len(opiniones_citibmx)*[\"Citibanamex\"]+len(opiniones_sant)*[\"Santander\"])\n",
    "df_mex[\"pais\"] = (len(opiniones_bbva)+len(opiniones_citibmx)+len(opiniones_sant))*[\"México\"]"
   ]
  },
  {
   "cell_type": "code",
   "execution_count": 17,
   "metadata": {},
   "outputs": [
    {
     "data": {
      "text/html": [
       "<div>\n",
       "<style scoped>\n",
       "    .dataframe tbody tr th:only-of-type {\n",
       "        vertical-align: middle;\n",
       "    }\n",
       "\n",
       "    .dataframe tbody tr th {\n",
       "        vertical-align: top;\n",
       "    }\n",
       "\n",
       "    .dataframe thead th {\n",
       "        text-align: right;\n",
       "    }\n",
       "</style>\n",
       "<table border=\"1\" class=\"dataframe\">\n",
       "  <thead>\n",
       "    <tr style=\"text-align: right;\">\n",
       "      <th></th>\n",
       "      <th>opinion</th>\n",
       "      <th>banco</th>\n",
       "      <th>pais</th>\n",
       "    </tr>\n",
       "  </thead>\n",
       "  <tbody>\n",
       "    <tr>\n",
       "      <th>0</th>\n",
       "      <td>Me encanta! Puedo obtener el tipo de cambio rá...</td>\n",
       "      <td>BBVA</td>\n",
       "      <td>México</td>\n",
       "    </tr>\n",
       "    <tr>\n",
       "      <th>1</th>\n",
       "      <td>BBVA el banco digital.   Excelente skill, pued...</td>\n",
       "      <td>BBVA</td>\n",
       "      <td>México</td>\n",
       "    </tr>\n",
       "    <tr>\n",
       "      <th>2</th>\n",
       "      <td>mala ubicacion de sucursales.   Solo reconoce ...</td>\n",
       "      <td>BBVA</td>\n",
       "      <td>México</td>\n",
       "    </tr>\n",
       "    <tr>\n",
       "      <th>3</th>\n",
       "      <td>Indispensable para usuarios BBVA Bancomer.   U...</td>\n",
       "      <td>BBVA</td>\n",
       "      <td>México</td>\n",
       "    </tr>\n",
       "    <tr>\n",
       "      <th>4</th>\n",
       "      <td>Interesante e inovador.   Desde la aplicación ...</td>\n",
       "      <td>BBVA</td>\n",
       "      <td>México</td>\n",
       "    </tr>\n",
       "  </tbody>\n",
       "</table>\n",
       "</div>"
      ],
      "text/plain": [
       "                                             opinion banco    pais\n",
       "0  Me encanta! Puedo obtener el tipo de cambio rá...  BBVA  México\n",
       "1  BBVA el banco digital.   Excelente skill, pued...  BBVA  México\n",
       "2  mala ubicacion de sucursales.   Solo reconoce ...  BBVA  México\n",
       "3  Indispensable para usuarios BBVA Bancomer.   U...  BBVA  México\n",
       "4  Interesante e inovador.   Desde la aplicación ...  BBVA  México"
      ]
     },
     "execution_count": 17,
     "metadata": {},
     "output_type": "execute_result"
    }
   ],
   "source": [
    "df_mex.head()"
   ]
  },
  {
   "cell_type": "code",
   "execution_count": 18,
   "metadata": {},
   "outputs": [],
   "source": [
    "# Exportacion a excel\n",
    "df_mex.to_excel(\"opiniones_mexico.xlsx\")"
   ]
  }
 ],
 "metadata": {
  "kernelspec": {
   "display_name": "Python 3",
   "language": "python",
   "name": "python3"
  },
  "language_info": {
   "codemirror_mode": {
    "name": "ipython",
    "version": 3
   },
   "file_extension": ".py",
   "mimetype": "text/x-python",
   "name": "python",
   "nbconvert_exporter": "python",
   "pygments_lexer": "ipython3",
   "version": "3.8.3"
  }
 },
 "nbformat": 4,
 "nbformat_minor": 4
}
